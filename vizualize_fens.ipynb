{
 "cells": [
  {
   "cell_type": "markdown",
   "id": "9d2d3e0a",
   "metadata": {},
   "source": [
    "### create vizualization tech"
   ]
  },
  {
   "cell_type": "code",
   "execution_count": 1,
   "id": "6bdc3ada",
   "metadata": {},
   "outputs": [],
   "source": [
    "import matplotlib.pyplot as plt\n",
    "\n",
    "def plot_heatmap(matrix):\n",
    "    \"\"\"\n",
    "    Plots an 8x8 heatmap using the provided matrix of floats ranging from 0 to 1.\n",
    "\n",
    "    :param matrix: A nested list (8x8) of floats (0-1)\n",
    "    \"\"\"\n",
    "    plt.imshow(matrix, cmap='hot', interpolation='nearest')\n",
    "    plt.colorbar()\n",
    "    plt.show()"
   ]
  },
  {
   "cell_type": "markdown",
   "id": "9b17dd98",
   "metadata": {},
   "source": [
    "### get model and make a prediction"
   ]
  },
  {
   "cell_type": "code",
   "execution_count": 2,
   "id": "9d4d931a",
   "metadata": {},
   "outputs": [
    {
     "data": {
      "text/plain": [
       "FenModel(\n",
       "  (bert): BertModel(\n",
       "    (embeddings): BertEmbeddings(\n",
       "      (word_embeddings): Embedding(28996, 768, padding_idx=0)\n",
       "      (position_embeddings): Embedding(512, 768)\n",
       "      (token_type_embeddings): Embedding(2, 768)\n",
       "      (LayerNorm): LayerNorm((768,), eps=1e-12, elementwise_affine=True)\n",
       "      (dropout): Dropout(p=0.1, inplace=False)\n",
       "    )\n",
       "    (encoder): BertEncoder(\n",
       "      (layer): ModuleList(\n",
       "        (0-11): 12 x BertLayer(\n",
       "          (attention): BertAttention(\n",
       "            (self): BertSelfAttention(\n",
       "              (query): Linear(in_features=768, out_features=768, bias=True)\n",
       "              (key): Linear(in_features=768, out_features=768, bias=True)\n",
       "              (value): Linear(in_features=768, out_features=768, bias=True)\n",
       "              (dropout): Dropout(p=0.1, inplace=False)\n",
       "            )\n",
       "            (output): BertSelfOutput(\n",
       "              (dense): Linear(in_features=768, out_features=768, bias=True)\n",
       "              (LayerNorm): LayerNorm((768,), eps=1e-12, elementwise_affine=True)\n",
       "              (dropout): Dropout(p=0.1, inplace=False)\n",
       "            )\n",
       "          )\n",
       "          (intermediate): BertIntermediate(\n",
       "            (dense): Linear(in_features=768, out_features=3072, bias=True)\n",
       "            (intermediate_act_fn): GELUActivation()\n",
       "          )\n",
       "          (output): BertOutput(\n",
       "            (dense): Linear(in_features=3072, out_features=768, bias=True)\n",
       "            (LayerNorm): LayerNorm((768,), eps=1e-12, elementwise_affine=True)\n",
       "            (dropout): Dropout(p=0.1, inplace=False)\n",
       "          )\n",
       "        )\n",
       "      )\n",
       "    )\n",
       "    (pooler): Linear(in_features=768, out_features=768, bias=True)\n",
       "  )\n",
       "  (linear): Linear(in_features=768, out_features=768, bias=True)\n",
       "  (dropout): Dropout(p=0.2, inplace=False)\n",
       ")"
      ]
     },
     "execution_count": 2,
     "metadata": {},
     "output_type": "execute_result"
    }
   ],
   "source": [
    "import torch\n",
    "from train_fen import FenModel\n",
    "\n",
    "model = FenModel()\n",
    "model.load_state_dict(torch.load('models/fenmodel.pt'))\n",
    "model.eval()"
   ]
  },
  {
   "cell_type": "markdown",
   "id": "4fe3e597-03fc-4132-8c1f-f9fcdd5de9b4",
   "metadata": {},
   "source": [
    "## get example fens"
   ]
  },
  {
   "cell_type": "code",
   "execution_count": 4,
   "id": "5e06f031-c03a-4798-9919-9059b8d9e002",
   "metadata": {},
   "outputs": [
    {
     "name": "stdout",
     "output_type": "stream",
     "text": [
      "['2kr2nr/pp1n1bpp/1bpq1p2/3p3P/1P1N2P1/2P1PP2/PB2N1B1/R2QK2R b - KQ\\n', '2rq1rk1/pp1nppbp/5np1/2pP4/2P1b1P1/1P2QN1P/P3BP1B/2RN1RK1 w - -\\n', 'rnbqkbn1/pppp4/3r1pp1/4p1Np/2B1P3/3P1Q2/PPP2PPP/RNB1K2R w - KQq\\n', 'r2qkb1r/p2npppp/2pp1n2/1p6/4P3/1P3Q1N/1PPP1PPP/RNB1K2R w - KQkq\\n', '5r2/B3p1b1/6kp/6n1/6p1/2P5/PP1r2PP/R3R1K1 w - -\\n']\n"
     ]
    }
   ],
   "source": [
    "with open('fens.txt', 'r') as f:\n",
    "    fens = [row for row in f]\n",
    "\n",
    "print(fens[:5])"
   ]
  },
  {
   "cell_type": "code",
   "execution_count": 5,
   "id": "7d61f836-0713-4cb5-9d55-22e643d53bb9",
   "metadata": {},
   "outputs": [],
   "source": [
    "def fen_to_targets(f: str) -> torch.Tensor:\n",
    "    p = FenParser(f)\n",
    "    b = list(itertools.chain.from_iterable(p.parse()))\n",
    "    pieces = ['p', 'r', 'n', 'b', 'q', 'k', 'P', 'R', 'N', 'B', 'Q', 'K']\n",
    "    out = torch.zeros(BOARD_LEN)\n",
    "    for i in range(12):\n",
    "        target = torch.zeros(FEN_LEN)\n",
    "        target[[pieces[i] == x for x in b]] = 1\n",
    "        out[FEN_LEN*i:FEN_LEN*(i+1)] = target\n",
    "    return out"
   ]
  },
  {
   "cell_type": "code",
   "execution_count": null,
   "id": "3e049161-cbf7-4931-ab6d-be2f1cdaad7f",
   "metadata": {},
   "outputs": [],
   "source": [
    "        inputs = self.tokenizer.encode_plus(\n",
    "            self.fens[idx],\n",
    "            max_length=self.max_len,\n",
    "            pad_to_max_length=True,\n",
    "            truncation=True,\n",
    "            return_token_type_ids=True\n",
    "        )\n",
    "        targets = fen_to_targets(self.fens[idx])\n",
    "        return {\n",
    "            'input_ids': torch.tensor(inputs['input_ids']),\n",
    "            'attention_mask': torch.tensor(inputs['attention_mask']),\n",
    "            'token_type_ids': torch.tensor(inputs['token_type_ids']),\n",
    "            'targets': targets\n",
    "        }"
   ]
  },
  {
   "cell_type": "code",
   "execution_count": null,
   "id": "a0552a42-4d92-4db0-8c80-884b7933675b",
   "metadata": {},
   "outputs": [],
   "source": [
    "split = int(len(fens) * 0.9)\n",
    "train_split = fens[:split]\n",
    "test_split = fens[split:]\n",
    "\n",
    "tokenizer = BertTokenizer.from_pretrained('bert-base-cased')\n",
    "\n",
    "train_ds = FenDataset(train_split, tokenizer, FEN_LEN)\n",
    "val_ds = FenDataset(test_split, tokenizer, FEN_LEN)\n",
    "\n",
    "print(train_ds[0])"
   ]
  }
 ],
 "metadata": {
  "kernelspec": {
   "display_name": "Python 3 (ipykernel)",
   "language": "python",
   "name": "python3"
  },
  "language_info": {
   "codemirror_mode": {
    "name": "ipython",
    "version": 3
   },
   "file_extension": ".py",
   "mimetype": "text/x-python",
   "name": "python",
   "nbconvert_exporter": "python",
   "pygments_lexer": "ipython3",
   "version": "3.11.7"
  }
 },
 "nbformat": 4,
 "nbformat_minor": 5
}
