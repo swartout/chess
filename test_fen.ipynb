{
 "cells": [
  {
   "cell_type": "code",
   "execution_count": 3,
   "id": "54debba0-e8bf-4b71-991d-ff8d48a4f476",
   "metadata": {},
   "outputs": [],
   "source": [
    "import zstandard as zstd\n",
    "\n",
    "def decompress_zst(file_path, output_path):\n",
    "    with open(file_path, 'rb') as compressed:\n",
    "        dctx = zstd.ZstdDecompressor()\n",
    "        with open(output_path, 'wb') as destination:\n",
    "            dctx.copy_stream(compressed, destination)\n",
    "\n",
    "# Usage\n",
    "decompress_zst('lichess_db_standard_rated_2016-03.pgn.zst', 'raw_pgn.pgn')"
   ]
  },
  {
   "cell_type": "code",
   "execution_count": 5,
   "id": "7a1b8190-b853-4a2a-9afd-dc9a87a3170e",
   "metadata": {},
   "outputs": [
    {
     "name": "stdout",
     "output_type": "stream",
     "text": [
      "[Event \"Rated Blitz tournament https://lichess.org/tournament/XLiNy5KR\"]\n",
      "[Site \"https://lichess.org/BX9cNQC4\"]\n",
      "[White \"cacho_mascachotta\"]\n",
      "[Black \"Urbi-Et-Orbi\"]\n",
      "[Result \"0-1\"]\n",
      "[UTCDate \"2016.02.29\"]\n",
      "[UTCTime \"23:00:03\"]\n",
      "[WhiteElo \"1563\"]\n",
      "[BlackElo \"1409\"]\n",
      "[WhiteRatingDiff \"-17\"]\n",
      "[BlackRatingDiff \"+20\"]\n",
      "[ECO \"?\"]\n",
      "[Opening \"?\"]\n",
      "[TimeControl \"180+0\"]\n",
      "[Termination \"Normal\"]\n",
      "\n",
      " 0-1\n",
      "\n",
      "[Event \"Rated Blitz game\"]\n",
      "[Site \"https://lichess.org/PwE2cWn3\"]\n",
      "[White \"Mescalero25\"]\n",
      "[Black \"fialho\"]\n",
      "[Result \"1-0\"]\n",
      "[UTCDate \"2016.02.29\"]\n",
      "[UTCTime \"23:00:02\"]\n",
      "[WhiteElo \"2044\"]\n",
      "[BlackElo \"2124\"]\n",
      "[WhiteRatingDiff \"+17\"]\n",
      "[BlackRatingDiff \"-13\"]\n",
      "[ECO \"C00\"]\n",
      "[Opening \"French Defense: King's Indian Attack\"]\n",
      "[TimeControl \"300+0\"]\n",
      "[Termination \"Normal\"]\n",
      "\n",
      "1. e4 e6 2. d3 d5 3. Nd2 dxe4 4. Nxe4 b6 5. g3 Bb7 6. Bg2 Be7 7. Nf6+ Bxf6 8. Bxb7 Nd7 9. Bxa8 Qxa8 10. Qf3 c6 11. Ne2 Ne5 12. Qg2 Ne7 13. O-O Qd8 14. f4 Ng4 15. h3 Bd4+ 16. Kh1 Nf6 17. c3 Bc5 18. d4 h5 19. dxc5 bxc5 20. Be3 Qd3 21. Bxc5 Nfd5 22. Bxe7 Kxe7 23. Rad1 Qc2 24. Rxd5 cxd5 25. Nd4 Qa4 26. a3 Rc8 27. Qe2 Qd7 28. f5 Rc4 29. fxe6 fxe6 30. Qxh5 Kd6 31. Qg5 Qb7 32. Qf4+ Kc5 33. Nxe6+ Kb5 34. Nd4+ Ka5 35. b4+ Ka4 36. Qc1 Rxd4 37. Qc2+ Kb5 38. cxd4 Qe7 39. Qc5+ 1-0\n",
      "\n",
      "[Event \"Rated Bullet tournament https://lichess.org/tournament/swlsEYuM\"]\n",
      "[Site \"https://lichess.org/sI2AWiHX\"]\n",
      "[White \"theosis101\"]\n",
      "[Black \"sebafreire\"]\n",
      "[Result \"1-0\"]\n",
      "[UTCDate \"2016.02.29\"]\n",
      "[UTCTime \"23:00:03\"]\n",
      "[WhiteElo \"1677\"]\n",
      "[BlackElo \"1736\"]\n",
      "[WhiteRatingDiff \"+14\"]\n",
      "[BlackRatingDiff \"-14\"]\n",
      "[ECO \"A43\"]\n",
      "[Opening \"Old Benoni Defense\"]\n",
      "[TimeControl \"60+0\"]\n",
      "[Termination \"Time forfeit\"]\n",
      "\n",
      "1. d4 c5 2. c4 cxd4 3. Nf3 Nc6 4. e3 e6 5. exd4 Nf6 6. Nc3 d5 7. cxd5 exd5 8. Bb5 Bf5 9. Qa4 Bd6 10. Bxc6+ bxc6 11. Qxc6+ Ke7 12. Nxd5+ Nxd5 13. Qxd5 Re8 14. Qxf5 Kf8+ 15. Be3 g6 16. Qd3 Kg8 17. O-O f5 18. Rfe1 Qc7 19. Bh6 Rxe1+ 20. Rxe1 Rd8 21. Qb3+ Qf7 22. Qxf7+ Kxf7 23. Ng5+ Kg8 24. Ne6 Re8 25. d5 Kf7 26. Rc1 Kf6 27. Rc6 Rb8 28. Bg5+ 1-0\n",
      "\n",
      "[Event \"Rated Blitz tournament https://lichess.org/tournament/XLiNy5KR\"]\n",
      "[Site \"https://lichess.org/qAS73D1T\"]\n",
      "[White \"BrettDale\"]\n",
      "[Black \"Viriskensoshir\"]\n",
      "[Result \"0-1\"]\n",
      "[UTCDate \"2016.02.29\"]\n",
      "[UTCTime \"23:00:03\"]\n",
      "[WhiteElo \"1905\"]\n",
      "[BlackElo \"1949\"]\n",
      "[WhiteRatingDiff \"-10\"]\n",
      "[BlackRatingDiff \"+10\"]\n",
      "[ECO \"B72\"]\n",
      "[Opening \"Sicilian Defense: Dragon, Classical Attack\"]\n",
      "[TimeControl \"180+0\"]\n",
      "[Termination \"Normal\"]\n",
      "\n",
      "1. e4 c5 2. Nf3 d6 3. d4 cxd4 4. Nxd4 Nf6 5. Nc3 g6 6. Be2 Bg7 7. Be3 O-O 8. Qd2 Nc6 9. h4 Ng4 10. Bxg4 Bxg4 11. f3 Nxd4 12. Bxd4 Bxd4 13. fxg4 Bxc3 14. Qxc3 Rc8 15. Qd3 Qa5+ 16. c3 Qe5 17. O-O b5 18. Rae1 Rc4 19. h5 Rfc8 20. Qf3 f6 21. hxg6 hxg6 22. Qh3 Kg7 23. Qf3 Rh8 24. g3 b4 25. Qg2 bxc3 26. Rf5 gxf5 27. exf5 Qxe1+ 0-1\n",
      "\n",
      "[Event \"Rated Classical tournament https://lichess.org/tournament/LfF4Il74\"]\n",
      "[Site \"https://lichess.org/GbvwpLxO\"]\n",
      "[White \"borgs\"]\n",
      "[Black \"IntiTupac\"]\n",
      "[Result \"0-1\"]\n",
      "[UTCDate \"2016.02.29\"]\n",
      "[UTCTime \"23:00:03\"]\n",
      "[WhiteElo \"1726\"]\n",
      "[BlackElo \"1702\"]\n",
      "[WhiteRatingDiff \"-12\"]\n",
      "[BlackRatingDiff \"+14\"]\n",
      "[ECO \"A13\"]\n",
      "[Opening \"English Opening: Agincourt Defense #3\"]\n",
      "[TimeControl \"600+0\"]\n",
      "[Termination \"Time forfeit\"]\n",
      "\n",
      "1. c4 e6 2. Nf3 a6 3. g3 g6 4. Bg2 Bg7 5. O-O Ne7 6. d4 d5 7. cxd5 exd5 8. Nc3 O-O 9. Bf4 b5 10. a3 Nf5 11. Rc1 Nc6 12. e3 b4 13. Na4 Na5 14. Bxc7 Qe7 15. Bxa5 bxa3 16. bxa3 Qxa3 17. Ra1 Qd6 18. Nb6 Rb8 19. Nxc8 Rfxc8 20. Qd3 Rb5 21. Bd2 Rcb8 22. Rfb1 R8b7 23. Rxb5 Rxb5 24. Rb1 Qc6 25. Rxb5 axb5 26. Bb4 Bf8 27. Bxf8 Kxf8 28. Ne5 Qc1+ 29. Qf1 Qb2 30. Bxd5 f6 31. Nd7+ Ke7 32. Nc5 Nxd4 33. exd4 Qxd4 34. Qe2+ Kd6 35. Ne4+ Kxd5 36. Nd2 Kc6 37. Qe6+ Qd6 38. Qxd6+ Kxd6 39. Ne4+ Ke6 40. Nc3 b4 41. Na4 Kd5 42. f4 Kc4 43. Kf2 Kb3 44. Nc5+ Kc2 45. Ke3 b3 46. Nxb3 Kxb3 0-1\n",
      "\n",
      "[Event \"Rated Blitz game\"]\n",
      "[Site \"https://lichess.org/H3w9FvEs\"]\n",
      "[White \"Aquariano\"]\n",
      "[Black \"Moszkowski\"]\n",
      "[Result \"1-0\"]\n",
      "[UTCDate \"2016.02.29\"]\n",
      "[UTCTime \"23:00:00\"]\n",
      "[WhiteElo \"1674\"]\n",
      "[BlackElo \"1627\"]\n",
      "[WhiteRatingDiff \"+9\"]\n"
     ]
    }
   ],
   "source": [
    "!head -n 100 raw_pgn.pgn"
   ]
  },
  {
   "cell_type": "code",
   "execution_count": 6,
   "id": "91956a4e-e86b-4eda-bcf4-e1574f3960f3",
   "metadata": {},
   "outputs": [],
   "source": [
    "games = []\n",
    "with open('raw_pgn.pgn', 'r') as f:\n",
    "    for row in f:\n",
    "        if row[:3] == '1. ':\n",
    "            games.append(row)"
   ]
  },
  {
   "cell_type": "code",
   "execution_count": 7,
   "id": "9a09b777-05e6-4c72-962d-06785873fce6",
   "metadata": {},
   "outputs": [
    {
     "data": {
      "text/plain": [
       "5783801"
      ]
     },
     "execution_count": 7,
     "metadata": {},
     "output_type": "execute_result"
    }
   ],
   "source": [
    "len(games)"
   ]
  },
  {
   "cell_type": "code",
   "execution_count": 8,
   "id": "79263db4-9d22-4bec-9caf-1420795c8b09",
   "metadata": {},
   "outputs": [
    {
     "data": {
      "text/plain": [
       "['1. e4 e6 2. d3 d5 3. Nd2 dxe4 4. Nxe4 b6 5. g3 Bb7 6. Bg2 Be7 7. Nf6+ Bxf6 8. Bxb7 Nd7 9. Bxa8 Qxa8 10. Qf3 c6 11. Ne2 Ne5 12. Qg2 Ne7 13. O-O Qd8 14. f4 Ng4 15. h3 Bd4+ 16. Kh1 Nf6 17. c3 Bc5 18. d4 h5 19. dxc5 bxc5 20. Be3 Qd3 21. Bxc5 Nfd5 22. Bxe7 Kxe7 23. Rad1 Qc2 24. Rxd5 cxd5 25. Nd4 Qa4 26. a3 Rc8 27. Qe2 Qd7 28. f5 Rc4 29. fxe6 fxe6 30. Qxh5 Kd6 31. Qg5 Qb7 32. Qf4+ Kc5 33. Nxe6+ Kb5 34. Nd4+ Ka5 35. b4+ Ka4 36. Qc1 Rxd4 37. Qc2+ Kb5 38. cxd4 Qe7 39. Qc5+ 1-0\\n',\n",
       " '1. d4 c5 2. c4 cxd4 3. Nf3 Nc6 4. e3 e6 5. exd4 Nf6 6. Nc3 d5 7. cxd5 exd5 8. Bb5 Bf5 9. Qa4 Bd6 10. Bxc6+ bxc6 11. Qxc6+ Ke7 12. Nxd5+ Nxd5 13. Qxd5 Re8 14. Qxf5 Kf8+ 15. Be3 g6 16. Qd3 Kg8 17. O-O f5 18. Rfe1 Qc7 19. Bh6 Rxe1+ 20. Rxe1 Rd8 21. Qb3+ Qf7 22. Qxf7+ Kxf7 23. Ng5+ Kg8 24. Ne6 Re8 25. d5 Kf7 26. Rc1 Kf6 27. Rc6 Rb8 28. Bg5+ 1-0\\n',\n",
       " '1. e4 c5 2. Nf3 d6 3. d4 cxd4 4. Nxd4 Nf6 5. Nc3 g6 6. Be2 Bg7 7. Be3 O-O 8. Qd2 Nc6 9. h4 Ng4 10. Bxg4 Bxg4 11. f3 Nxd4 12. Bxd4 Bxd4 13. fxg4 Bxc3 14. Qxc3 Rc8 15. Qd3 Qa5+ 16. c3 Qe5 17. O-O b5 18. Rae1 Rc4 19. h5 Rfc8 20. Qf3 f6 21. hxg6 hxg6 22. Qh3 Kg7 23. Qf3 Rh8 24. g3 b4 25. Qg2 bxc3 26. Rf5 gxf5 27. exf5 Qxe1+ 0-1\\n',\n",
       " '1. c4 e6 2. Nf3 a6 3. g3 g6 4. Bg2 Bg7 5. O-O Ne7 6. d4 d5 7. cxd5 exd5 8. Nc3 O-O 9. Bf4 b5 10. a3 Nf5 11. Rc1 Nc6 12. e3 b4 13. Na4 Na5 14. Bxc7 Qe7 15. Bxa5 bxa3 16. bxa3 Qxa3 17. Ra1 Qd6 18. Nb6 Rb8 19. Nxc8 Rfxc8 20. Qd3 Rb5 21. Bd2 Rcb8 22. Rfb1 R8b7 23. Rxb5 Rxb5 24. Rb1 Qc6 25. Rxb5 axb5 26. Bb4 Bf8 27. Bxf8 Kxf8 28. Ne5 Qc1+ 29. Qf1 Qb2 30. Bxd5 f6 31. Nd7+ Ke7 32. Nc5 Nxd4 33. exd4 Qxd4 34. Qe2+ Kd6 35. Ne4+ Kxd5 36. Nd2 Kc6 37. Qe6+ Qd6 38. Qxd6+ Kxd6 39. Ne4+ Ke6 40. Nc3 b4 41. Na4 Kd5 42. f4 Kc4 43. Kf2 Kb3 44. Nc5+ Kc2 45. Ke3 b3 46. Nxb3 Kxb3 0-1\\n',\n",
       " '1. d4 e5 2. dxe5 f6 3. exf6 Nxf6 4. a3 Bc5 5. e3 O-O 6. Nc3 a6 7. Bd3 d6 8. h3 Be6 9. Nf3 Qe8 10. O-O Qh5 11. Be2 Bxh3 12. gxh3 Qxh3 13. Nh2 Nfd7 14. Bg4 Qh4 15. Qd5+ Kh8 16. Qg2 Nf6 17. Ne4 Nbd7 18. Nxc5 Nxc5 19. b4 Ncd7 20. Bb2 Ne5 21. Bxe5 dxe5 22. Rad1 Rad8 23. c4 Qg5 24. Bf3 Qxg2+ 25. Kxg2 Rxd1 26. Rxd1 c6 27. Ng4 h5 28. Nxf6 gxf6 29. Bxh5 Rg8+ 30. Kf3 Kh7 31. Bg4 Rg7 32. Bf5+ Kh6 33. Rh1+ Kg5 34. Rg1+ Kh6 35. Rxg7 Kxg7 36. Bc8 b5 37. Bxa6 bxc4 38. Bxc4 Kf8 39. Ke4 Ke7 40. Kf5 e4 41. Kxe4 f5+ 42. Kxf5 c5 43. b5 Kd7 44. a4 Kc8 45. Ke5 Kb8 46. Kd5 Kb7 47. Kxc5 Kc8 48. a5 Kb8 49. e4 Ka8 50. e5 Kb8 51. e6 Kc8 52. f4 Kd8 53. f5 Ke7 54. a6 Kd8 55. f6 Kc8 56. Kc6 Kb8 57. b6 Kc8 58. Kd6 Kd8 59. a7 Ke8 60. a8=R# 1-0\\n',\n",
       " '1. d3 d5 2. e3 e5 3. Nf3 Nc6 4. Be2 Bg4 5. h3 Bh5 6. Nh2 Bxe2 7. Qxe2 Nf6 8. Ng4 Bc5 9. Nxf6+ Qxf6 10. O-O O-O-O 11. c3 d4 12. cxd4 exd4 13. e4 Ne5 14. Nd2 Qe6 15. b3 f5 16. Nc4 fxe4 17. Qxe4 Rhe8 18. Re1 Bd6 19. Nxe5 Qxe5 20. Qxe5 Rxe5 21. Rxe5 Bxe5 22. Bg5 Bf6 23. Bxf6 gxf6 24. Re1 c5 25. f4 Rd6 26. Kf2 Kc7 27. Kf3 b5 28. Re7+ Rd7 29. Re6 Rd6 30. Re8 Kb6 31. Ke4 Ka5 32. a3 b4 33. a4 Kb6 34. Rb8+ Kc7 35. Rb5 a6 36. Rxc5+ Kb6 37. Rc4 Rc6 38. Rxb4+ Ka5 39. Rxd4 Rc3 40. b4+ Kxa4 41. Rd6 Rb3 42. Rxa6+ Kxb4 43. Rb6+ Kc3 44. Rxb3+ Kxb3 45. d4 f5+ 46. Kd5 h6 47. Kc5 Kc3 48. d5 Kd3 49. d6 Ke3 50. d7 1-0\\n',\n",
       " '1. e4 e5 2. Nf3 d5 3. Nxe5 dxe4 4. Nc3 Bc5 5. Nxe4 Qd5 6. Nxc5 Qxc5 7. Qe2 Ne7 8. d4 Qxd4 9. Nf3 Qb4+ 10. Qd2 Nbc6 11. Bd3 Bd7 12. O-O O-O-O 13. c3 Qg4 14. Qf4 Qxf4 15. Bxf4 f6 16. Bc2 g5 17. Be3 Bg4 18. Nd4 Nxd4 19. Bxd4 Nc6 20. Bxf6 Rdf8 21. Bxh8 Rxh8 22. h3 Rf8 23. hxg4 Ne5 24. Rae1 Nxg4 25. f3 Nf6 26. Bf5+ Kb8 27. g4 h5 28. Re7 hxg4 29. fxg4 1-0\\n',\n",
       " '1. e4 c5 2. d3 d6 3. f4 a6 4. g3 b6 5. c4 Bb7 6. b3 Nc6 7. Ne2 g6 8. a3 Bg7 9. h4 Bxa1 10. Qc2 Bg7 11. h5 Nd4 12. Nxd4 Bxd4 13. hxg6 hxg6 14. Rxh8 Bxh8 15. Qh2 Bf6 16. e5 dxe5 17. fxe5 Bxe5 18. Qh8 Bxh8 19. Bh6 Nxh6 20. Bg2 Bxg2 21. Kf2 Bc6 22. a4 Qxd3 23. Ke1 O-O-O 24. Nd2 Qxd2+ 25. Kf1 Qg2+ 26. Ke1 Rd2 27. a5 Qf2# 0-1\\n',\n",
       " '1. Nf3 d5 2. c4 c6 3. Qa4 dxc4 4. Qxc4 Nf6 5. Nc3 Be6 6. Qb4 Qb6 7. a3 Qxb4 8. axb4 a6 9. e4 g6 10. b5 cxb5 11. Bxb5+ Bd7 12. d4 Bxb5 13. Nxb5 Kd8 14. e5 Nd5 15. Ng5 Nc6 16. Nxf7+ Kd7 17. Nxh8 Bg7 18. Nf7 Ke6 19. Ng5+ Kf5 20. Nf3 Rf8 21. Nc3 Ke6 22. Nxd5 Kxd5 23. O-O e6 24. Be3 Nb4 25. Ra5+ b5 26. Rc1 Nd3 27. Rc2 Rb8 28. h3 Nb4 29. Rc5+ Ke4 30. Ng5+ Kf5 31. Nxh7 Rh8 32. f3 Rxh7 33. g4# 1-0\\n',\n",
       " '1. d4 d6 2. e3 Nf6 3. c3 a6 4. Qa4+ Bd7 5. Qb3 b6 6. g3 Nc6 7. Bg2 h6 8. c4 e5 9. c5 dxc5 10. dxc5 bxc5 11. Qc3 Qc8 12. Qb3 Rb8 13. Qc4 Na5 14. Qf1 c4 15. Nd2 Bb4 16. b3 c3 17. Ne4 Bb5 18. Ne2 Qd8 19. Nxf6+ gxf6 20. f4 c2+ 21. Kf2 Rg8 22. Rg1 Qd3 23. a3 Bc5 24. b4 Nb3 25. Ra2 Nxc1 26. Nxc1 Qxe3# 0-1\\n']"
      ]
     },
     "execution_count": 8,
     "metadata": {},
     "output_type": "execute_result"
    }
   ],
   "source": [
    "games[:10]"
   ]
  },
  {
   "cell_type": "code",
   "execution_count": 19,
   "id": "b97c5af3-6c9a-4be3-87c0-b21082d994fa",
   "metadata": {},
   "outputs": [],
   "source": [
    "import re\n",
    "\n",
    "cleaned = []\n",
    "for g in games:\n",
    "    c = re.sub(r'[0-9]+\\. ', '', g)\n",
    "    cleaned.append(c)\n"
   ]
  },
  {
   "cell_type": "code",
   "execution_count": 20,
   "id": "375ffc89-2cae-49a2-8e30-c3e4e8c6b95a",
   "metadata": {},
   "outputs": [
    {
     "data": {
      "text/plain": [
       "['e4 e6 d3 d5 Nd2 dxe4 Nxe4 b6 g3 Bb7 Bg2 Be7 Nf6+ Bxf6 Bxb7 Nd7 Bxa8 Qxa8 Qf3 c6 Ne2 Ne5 Qg2 Ne7 O-O Qd8 f4 Ng4 h3 Bd4+ Kh1 Nf6 c3 Bc5 d4 h5 dxc5 bxc5 Be3 Qd3 Bxc5 Nfd5 Bxe7 Kxe7 Rad1 Qc2 Rxd5 cxd5 Nd4 Qa4 a3 Rc8 Qe2 Qd7 f5 Rc4 fxe6 fxe6 Qxh5 Kd6 Qg5 Qb7 Qf4+ Kc5 Nxe6+ Kb5 Nd4+ Ka5 b4+ Ka4 Qc1 Rxd4 Qc2+ Kb5 cxd4 Qe7 Qc5+ 1-0\\n',\n",
       " 'd4 c5 c4 cxd4 Nf3 Nc6 e3 e6 exd4 Nf6 Nc3 d5 cxd5 exd5 Bb5 Bf5 Qa4 Bd6 Bxc6+ bxc6 Qxc6+ Ke7 Nxd5+ Nxd5 Qxd5 Re8 Qxf5 Kf8+ Be3 g6 Qd3 Kg8 O-O f5 Rfe1 Qc7 Bh6 Rxe1+ Rxe1 Rd8 Qb3+ Qf7 Qxf7+ Kxf7 Ng5+ Kg8 Ne6 Re8 d5 Kf7 Rc1 Kf6 Rc6 Rb8 Bg5+ 1-0\\n',\n",
       " 'e4 c5 Nf3 d6 d4 cxd4 Nxd4 Nf6 Nc3 g6 Be2 Bg7 Be3 O-O Qd2 Nc6 h4 Ng4 Bxg4 Bxg4 f3 Nxd4 Bxd4 Bxd4 fxg4 Bxc3 Qxc3 Rc8 Qd3 Qa5+ c3 Qe5 O-O b5 Rae1 Rc4 h5 Rfc8 Qf3 f6 hxg6 hxg6 Qh3 Kg7 Qf3 Rh8 g3 b4 Qg2 bxc3 Rf5 gxf5 exf5 Qxe1+ 0-1\\n',\n",
       " 'c4 e6 Nf3 a6 g3 g6 Bg2 Bg7 O-O Ne7 d4 d5 cxd5 exd5 Nc3 O-O Bf4 b5 a3 Nf5 Rc1 Nc6 e3 b4 Na4 Na5 Bxc7 Qe7 Bxa5 bxa3 bxa3 Qxa3 Ra1 Qd6 Nb6 Rb8 Nxc8 Rfxc8 Qd3 Rb5 Bd2 Rcb8 Rfb1 R8b7 Rxb5 Rxb5 Rb1 Qc6 Rxb5 axb5 Bb4 Bf8 Bxf8 Kxf8 Ne5 Qc1+ Qf1 Qb2 Bxd5 f6 Nd7+ Ke7 Nc5 Nxd4 exd4 Qxd4 Qe2+ Kd6 Ne4+ Kxd5 Nd2 Kc6 Qe6+ Qd6 Qxd6+ Kxd6 Ne4+ Ke6 Nc3 b4 Na4 Kd5 f4 Kc4 Kf2 Kb3 Nc5+ Kc2 Ke3 b3 Nxb3 Kxb3 0-1\\n',\n",
       " 'd4 e5 dxe5 f6 exf6 Nxf6 a3 Bc5 e3 O-O Nc3 a6 Bd3 d6 h3 Be6 Nf3 Qe8 O-O Qh5 Be2 Bxh3 gxh3 Qxh3 Nh2 Nfd7 Bg4 Qh4 Qd5+ Kh8 Qg2 Nf6 Ne4 Nbd7 Nxc5 Nxc5 b4 Ncd7 Bb2 Ne5 Bxe5 dxe5 Rad1 Rad8 c4 Qg5 Bf3 Qxg2+ Kxg2 Rxd1 Rxd1 c6 Ng4 h5 Nxf6 gxf6 Bxh5 Rg8+ Kf3 Kh7 Bg4 Rg7 Bf5+ Kh6 Rh1+ Kg5 Rg1+ Kh6 Rxg7 Kxg7 Bc8 b5 Bxa6 bxc4 Bxc4 Kf8 Ke4 Ke7 Kf5 e4 Kxe4 f5+ Kxf5 c5 b5 Kd7 a4 Kc8 Ke5 Kb8 Kd5 Kb7 Kxc5 Kc8 a5 Kb8 e4 Ka8 e5 Kb8 e6 Kc8 f4 Kd8 f5 Ke7 a6 Kd8 f6 Kc8 Kc6 Kb8 b6 Kc8 Kd6 Kd8 a7 Ke8 a8=R# 1-0\\n',\n",
       " 'd3 d5 e3 e5 Nf3 Nc6 Be2 Bg4 h3 Bh5 Nh2 Bxe2 Qxe2 Nf6 Ng4 Bc5 Nxf6+ Qxf6 O-O O-O-O c3 d4 cxd4 exd4 e4 Ne5 Nd2 Qe6 b3 f5 Nc4 fxe4 Qxe4 Rhe8 Re1 Bd6 Nxe5 Qxe5 Qxe5 Rxe5 Rxe5 Bxe5 Bg5 Bf6 Bxf6 gxf6 Re1 c5 f4 Rd6 Kf2 Kc7 Kf3 b5 Re7+ Rd7 Re6 Rd6 Re8 Kb6 Ke4 Ka5 a3 b4 a4 Kb6 Rb8+ Kc7 Rb5 a6 Rxc5+ Kb6 Rc4 Rc6 Rxb4+ Ka5 Rxd4 Rc3 b4+ Kxa4 Rd6 Rb3 Rxa6+ Kxb4 Rb6+ Kc3 Rxb3+ Kxb3 d4 f5+ Kd5 h6 Kc5 Kc3 d5 Kd3 d6 Ke3 d7 1-0\\n',\n",
       " 'e4 e5 Nf3 d5 Nxe5 dxe4 Nc3 Bc5 Nxe4 Qd5 Nxc5 Qxc5 Qe2 Ne7 d4 Qxd4 Nf3 Qb4+ Qd2 Nbc6 Bd3 Bd7 O-O O-O-O c3 Qg4 Qf4 Qxf4 Bxf4 f6 Bc2 g5 Be3 Bg4 Nd4 Nxd4 Bxd4 Nc6 Bxf6 Rdf8 Bxh8 Rxh8 h3 Rf8 hxg4 Ne5 Rae1 Nxg4 f3 Nf6 Bf5+ Kb8 g4 h5 Re7 hxg4 fxg4 1-0\\n',\n",
       " 'e4 c5 d3 d6 f4 a6 g3 b6 c4 Bb7 b3 Nc6 Ne2 g6 a3 Bg7 h4 Bxa1 Qc2 Bg7 h5 Nd4 Nxd4 Bxd4 hxg6 hxg6 Rxh8 Bxh8 Qh2 Bf6 e5 dxe5 fxe5 Bxe5 Qh8 Bxh8 Bh6 Nxh6 Bg2 Bxg2 Kf2 Bc6 a4 Qxd3 Ke1 O-O-O Nd2 Qxd2+ Kf1 Qg2+ Ke1 Rd2 a5 Qf2# 0-1\\n',\n",
       " 'Nf3 d5 c4 c6 Qa4 dxc4 Qxc4 Nf6 Nc3 Be6 Qb4 Qb6 a3 Qxb4 axb4 a6 e4 g6 b5 cxb5 Bxb5+ Bd7 d4 Bxb5 Nxb5 Kd8 e5 Nd5 Ng5 Nc6 Nxf7+ Kd7 Nxh8 Bg7 Nf7 Ke6 Ng5+ Kf5 Nf3 Rf8 Nc3 Ke6 Nxd5 Kxd5 O-O e6 Be3 Nb4 Ra5+ b5 Rc1 Nd3 Rc2 Rb8 h3 Nb4 Rc5+ Ke4 Ng5+ Kf5 Nxh7 Rh8 f3 Rxh7 g4# 1-0\\n',\n",
       " 'd4 d6 e3 Nf6 c3 a6 Qa4+ Bd7 Qb3 b6 g3 Nc6 Bg2 h6 c4 e5 c5 dxc5 dxc5 bxc5 Qc3 Qc8 Qb3 Rb8 Qc4 Na5 Qf1 c4 Nd2 Bb4 b3 c3 Ne4 Bb5 Ne2 Qd8 Nxf6+ gxf6 f4 c2+ Kf2 Rg8 Rg1 Qd3 a3 Bc5 b4 Nb3 Ra2 Nxc1 Nxc1 Qxe3# 0-1\\n']"
      ]
     },
     "execution_count": 20,
     "metadata": {},
     "output_type": "execute_result"
    }
   ],
   "source": [
    "cleaned[:10]"
   ]
  },
  {
   "cell_type": "code",
   "execution_count": 26,
   "id": "a09270bc-2819-4ee7-8e68-d7b256589721",
   "metadata": {
    "scrolled": true
   },
   "outputs": [
    {
     "name": "stdout",
     "output_type": "stream",
     "text": [
      "0\n",
      "100000\n",
      "200000\n",
      "300000\n",
      "400000\n",
      "500000\n",
      "600000\n",
      "700000\n",
      "800000\n",
      "900000\n",
      "1000000\n",
      "1100000\n",
      "1200000\n",
      "1300000\n",
      "1400000\n",
      "1500000\n",
      "1600000\n",
      "1700000\n",
      "1800000\n",
      "1900000\n",
      "2000000\n",
      "2100000\n",
      "2200000\n",
      "2300000\n",
      "2400000\n",
      "2500000\n",
      "2600000\n",
      "2700000\n",
      "2800000\n",
      "2900000\n",
      "3000000\n",
      "3100000\n",
      "3200000\n",
      "3300000\n",
      "3400000\n",
      "3500000\n",
      "3600000\n",
      "3700000\n",
      "3800000\n",
      "3900000\n",
      "4000000\n",
      "4100000\n",
      "4200000\n",
      "4300000\n",
      "4400000\n",
      "4500000\n",
      "4600000\n",
      "4700000\n",
      "4800000\n",
      "4900000\n"
     ]
    },
    {
     "ename": "KeyboardInterrupt",
     "evalue": "",
     "output_type": "error",
     "traceback": [
      "\u001b[0;31m---------------------------------------------------------------------------\u001b[0m",
      "\u001b[0;31mKeyboardInterrupt\u001b[0m                         Traceback (most recent call last)",
      "Cell \u001b[0;32mIn[26], line 5\u001b[0m\n\u001b[1;32m      3\u001b[0m     \u001b[38;5;28;01mif\u001b[39;00m i \u001b[38;5;241m%\u001b[39m \u001b[38;5;241m100000\u001b[39m \u001b[38;5;241m==\u001b[39m \u001b[38;5;241m0\u001b[39m:\n\u001b[1;32m      4\u001b[0m         \u001b[38;5;28mprint\u001b[39m(i)\n\u001b[0;32m----> 5\u001b[0m     full_clean\u001b[38;5;241m.\u001b[39mappend(cleaned[i]\u001b[38;5;241m.\u001b[39msplit(\u001b[38;5;124m'\u001b[39m\u001b[38;5;124m \u001b[39m\u001b[38;5;124m'\u001b[39m)[:\u001b[38;5;241m-\u001b[39m\u001b[38;5;241m1\u001b[39m])\n\u001b[1;32m      6\u001b[0m full_clean[\u001b[38;5;241m0\u001b[39m]\n",
      "\u001b[0;31mKeyboardInterrupt\u001b[0m: "
     ]
    }
   ],
   "source": [
    "full_clean = []\n",
    "for i in range(len(cleaned)):\n",
    "    if i % 100000 == 0:\n",
    "        print(i)\n",
    "    full_clean.append(cleaned[i].split(' ')[:-1])\n",
    "full_clean[0]"
   ]
  },
  {
   "cell_type": "code",
   "execution_count": 29,
   "id": "a2255a82-e1e7-4277-b600-fa21d8c27d43",
   "metadata": {},
   "outputs": [
    {
     "data": {
      "text/plain": [
       "'rnbqkbnr/pppppppp/8/8/3P4/8/PPP1PPPP/RNBQKBNR b d3 KQkq'"
      ]
     },
     "execution_count": 29,
     "metadata": {},
     "output_type": "execute_result"
    }
   ],
   "source": [
    "import pgntofen\n",
    "pgnConverter = pgntofen.PgnToFen()\n",
    "pgnConverter.move('d4')\n",
    "pgnConverter.getFullFen()"
   ]
  },
  {
   "cell_type": "code",
   "execution_count": 36,
   "id": "17af51b0-0d2d-4777-87e9-625966cd0b21",
   "metadata": {},
   "outputs": [
    {
     "name": "stdout",
     "output_type": "stream",
     "text": [
      "0 0\n",
      "10000 569681\n",
      "20000 1127424\n",
      "30000 1670095\n",
      "40000 2202272\n",
      "50000 2741256\n",
      "60000 3280681\n",
      "70000 3822459\n",
      "80000 4359616\n",
      "90000 4891342\n",
      "100000 5426370\n",
      "110000 5956436\n",
      "120000 6490420\n",
      "130000 7026120\n",
      "140000 7552163\n",
      "150000 8067785\n",
      "160000 8596390\n",
      "170000 9124113\n",
      "180000 9656347\n",
      "190000 10178556\n",
      "200000 10700696\n",
      "210000 11224377\n",
      "220000 11730689\n",
      "230000 12245102\n",
      "240000 12762816\n",
      "250000 13282717\n",
      "260000 13803870\n",
      "270000 14328864\n",
      "280000 14855346\n",
      "290000 15369307\n",
      "300000 15897101\n",
      "310000 16420298\n",
      "320000 16938656\n",
      "330000 17461727\n",
      "340000 17988973\n",
      "350000 18494463\n",
      "360000 19001500\n",
      "370000 19508087\n",
      "380000 20005410\n",
      "390000 20517545\n",
      "400000 21030869\n",
      "410000 21547028\n",
      "420000 22060201\n",
      "430000 22566113\n",
      "440000 23078098\n",
      "450000 23604014\n",
      "460000 24124083\n",
      "470000 24637524\n",
      "480000 25156054\n",
      "490000 25673530\n",
      "500000 26195447\n",
      "510000 26714029\n",
      "520000 27229951\n",
      "530000 27748505\n",
      "540000 28260007\n",
      "550000 28775534\n",
      "560000 29273711\n",
      "570000 29779911\n",
      "580000 30289900\n",
      "590000 30804498\n",
      "600000 31317349\n",
      "610000 31829284\n",
      "620000 32345780\n",
      "630000 32848245\n",
      "640000 33361634\n",
      "650000 33874168\n",
      "660000 34392065\n",
      "670000 34906095\n",
      "680000 35416446\n",
      "690000 35936788\n",
      "700000 36454603\n",
      "710000 36973065\n",
      "720000 37492030\n",
      "730000 38003604\n",
      "740000 38507561\n",
      "750000 39020770\n",
      "760000 39524674\n",
      "770000 40038834\n",
      "780000 40550371\n",
      "790000 41064008\n",
      "800000 41576304\n",
      "810000 42092589\n",
      "820000 42610589\n",
      "830000 43125497\n",
      "840000 43635341\n",
      "850000 44155753\n",
      "860000 44670931\n",
      "870000 45179582\n",
      "880000 45690653\n",
      "890000 46203313\n",
      "900000 46715960\n",
      "910000 47227006\n",
      "920000 47729639\n",
      "930000 48240308\n",
      "940000 48751891\n",
      "950000 49260407\n",
      "960000 49768681\n",
      "970000 50283801\n",
      "980000 50791970\n",
      "990000 51313656\n",
      "1000000 51833214\n"
     ]
    },
    {
     "ename": "KeyboardInterrupt",
     "evalue": "",
     "output_type": "error",
     "traceback": [
      "\u001b[0;31m---------------------------------------------------------------------------\u001b[0m",
      "\u001b[0;31mKeyboardInterrupt\u001b[0m                         Traceback (most recent call last)",
      "Cell \u001b[0;32mIn[36], line 11\u001b[0m\n\u001b[1;32m      9\u001b[0m \u001b[38;5;28;01mfor\u001b[39;00m move \u001b[38;5;129;01min\u001b[39;00m full_clean[i]:\n\u001b[1;32m     10\u001b[0m     \u001b[38;5;28;01mtry\u001b[39;00m:\n\u001b[0;32m---> 11\u001b[0m         \u001b[43mpgnConverter\u001b[49m\u001b[38;5;241;43m.\u001b[39;49m\u001b[43mmove\u001b[49m\u001b[43m(\u001b[49m\u001b[43mmove\u001b[49m\u001b[43m)\u001b[49m\n\u001b[1;32m     12\u001b[0m         fens\u001b[38;5;241m.\u001b[39madd(pgnConverter\u001b[38;5;241m.\u001b[39mgetFullFen())\n\u001b[1;32m     13\u001b[0m     \u001b[38;5;28;01mexcept\u001b[39;00m \u001b[38;5;167;01mException\u001b[39;00m \u001b[38;5;28;01mas\u001b[39;00m e:\n",
      "File \u001b[0;32m~/me/chess/pgntofen.py:139\u001b[0m, in \u001b[0;36mPgnToFen.move\u001b[0;34m(self, move)\u001b[0m\n\u001b[1;32m    137\u001b[0m \u001b[38;5;28;01mtry\u001b[39;00m:\n\u001b[1;32m    138\u001b[0m     \u001b[38;5;28mself\u001b[39m\u001b[38;5;241m.\u001b[39mlastMove \u001b[38;5;241m=\u001b[39m move\n\u001b[0;32m--> 139\u001b[0m     \u001b[38;5;28;43mself\u001b[39;49m\u001b[38;5;241;43m.\u001b[39;49m\u001b[43mhandleAllmoves\u001b[49m\u001b[43m(\u001b[49m\u001b[43mmove\u001b[49m\u001b[43m)\u001b[49m\n\u001b[1;32m    140\u001b[0m     \u001b[38;5;28;01mif\u001b[39;00m(\u001b[38;5;28mself\u001b[39m\u001b[38;5;241m.\u001b[39mwhiteToMove):\n\u001b[1;32m    141\u001b[0m         \u001b[38;5;28mself\u001b[39m\u001b[38;5;241m.\u001b[39mwhiteToMove \u001b[38;5;241m=\u001b[39m \u001b[38;5;28;01mFalse\u001b[39;00m\n",
      "File \u001b[0;32m~/me/chess/pgntofen.py:201\u001b[0m, in \u001b[0;36mPgnToFen.handleAllmoves\u001b[0;34m(self, move)\u001b[0m\n\u001b[1;32m    199\u001b[0m     \u001b[38;5;28mself\u001b[39m\u001b[38;5;241m.\u001b[39mkingMove(toPosition, specificCol, specificRow)\n\u001b[1;32m    200\u001b[0m \u001b[38;5;28;01melif\u001b[39;00m(officer \u001b[38;5;241m==\u001b[39m \u001b[38;5;124m'\u001b[39m\u001b[38;5;124mP\u001b[39m\u001b[38;5;124m'\u001b[39m):\n\u001b[0;32m--> 201\u001b[0m     \u001b[38;5;28;43mself\u001b[39;49m\u001b[38;5;241;43m.\u001b[39;49m\u001b[43mpawnMove\u001b[49m\u001b[43m(\u001b[49m\u001b[43mtoPosition\u001b[49m\u001b[43m,\u001b[49m\u001b[43m \u001b[49m\u001b[43mspecificCol\u001b[49m\u001b[43m,\u001b[49m\u001b[43m \u001b[49m\u001b[43mspecificRow\u001b[49m\u001b[43m,\u001b[49m\u001b[43m \u001b[49m\u001b[43mtakes\u001b[49m\u001b[43m,\u001b[49m\u001b[43m \u001b[49m\u001b[43mpromote\u001b[49m\u001b[43m)\u001b[49m\n",
      "File \u001b[0;32m~/me/chess/pgntofen.py:474\u001b[0m, in \u001b[0;36mPgnToFen.pawnMove\u001b[0;34m(self, toPosition, specificCol, specificRow, takes, promote)\u001b[0m\n\u001b[1;32m    471\u001b[0m \u001b[38;5;28;01melse\u001b[39;00m:\n\u001b[1;32m    472\u001b[0m     \u001b[38;5;66;03m#run piece one more time if case of promotion\u001b[39;00m\n\u001b[1;32m    473\u001b[0m     piece \u001b[38;5;241m=\u001b[39m \u001b[38;5;124m'\u001b[39m\u001b[38;5;124mP\u001b[39m\u001b[38;5;124m'\u001b[39m \u001b[38;5;28;01mif\u001b[39;00m \u001b[38;5;28mself\u001b[39m\u001b[38;5;241m.\u001b[39mwhiteToMove \u001b[38;5;28;01melse\u001b[39;00m \u001b[38;5;124m'\u001b[39m\u001b[38;5;124mp\u001b[39m\u001b[38;5;124m'\u001b[39m\n\u001b[0;32m--> 474\u001b[0m     \u001b[38;5;28;43mself\u001b[39;49m\u001b[38;5;241;43m.\u001b[39;49m\u001b[43mupdateOldLinePos\u001b[49m\u001b[43m(\u001b[49m\u001b[43mpiece\u001b[49m\u001b[43m,\u001b[49m\u001b[43mchessBoardNumber\u001b[49m\u001b[43m,\u001b[49m\u001b[43m \u001b[49m\u001b[43mtoPosition\u001b[49m\u001b[43m)\u001b[49m\n",
      "File \u001b[0;32m~/me/chess/pgntofen.py:482\u001b[0m, in \u001b[0;36mPgnToFen.updateOldLinePos\u001b[0;34m(self, char, posistion, toPosition)\u001b[0m\n\u001b[1;32m    480\u001b[0m piece \u001b[38;5;241m=\u001b[39m \u001b[38;5;124m'\u001b[39m\u001b[38;5;124m'\u001b[39m\n\u001b[1;32m    481\u001b[0m step \u001b[38;5;241m=\u001b[39m \u001b[38;5;241m8\u001b[39m\n\u001b[0;32m--> 482\u001b[0m \u001b[38;5;28;01mwhile\u001b[39;00m(posistion \u001b[38;5;241m>\u001b[39m\u001b[38;5;241m=\u001b[39m \u001b[38;5;241m0\u001b[39m \u001b[38;5;129;01mand\u001b[39;00m \u001b[43mposistion\u001b[49m\u001b[43m \u001b[49m\u001b[38;5;241;43m<\u001b[39;49m\u001b[43m \u001b[49m\u001b[38;5;241;43m64\u001b[39;49m):\n\u001b[1;32m    483\u001b[0m     \u001b[38;5;28;01mif\u001b[39;00m(piece \u001b[38;5;241m==\u001b[39m char):\n\u001b[1;32m    484\u001b[0m         \u001b[38;5;28;01mif\u001b[39;00m(\u001b[38;5;28mabs\u001b[39m(posistion \u001b[38;5;241m-\u001b[39m startPos) \u001b[38;5;241m>\u001b[39m \u001b[38;5;241m10\u001b[39m):\n",
      "\u001b[0;31mKeyboardInterrupt\u001b[0m: "
     ]
    }
   ],
   "source": [
    "fens = set()\n",
    "\n",
    "c = 0\n",
    "for i in range(len(full_clean)):\n",
    "    c = i\n",
    "    if i % 10000 == 0:\n",
    "        print(i, len(fens))\n",
    "    pgnConverter = pgntofen.PgnToFen()\n",
    "    for move in full_clean[i]:\n",
    "        try:\n",
    "            pgnConverter.move(move)\n",
    "            fens.add(pgnConverter.getFullFen())\n",
    "        except Exception as e:\n",
    "            pass            \n"
   ]
  },
  {
   "cell_type": "code",
   "execution_count": 39,
   "id": "74b29175-a454-4c0e-bfd1-bc9d656b66e7",
   "metadata": {},
   "outputs": [],
   "source": [
    "with open('fens.txt', 'w') as f:\n",
    "    for i, fen in enumerate(fens):\n",
    "        if i == 50000000:\n",
    "            break\n",
    "        f.write(fen + '\\n')"
   ]
  },
  {
   "cell_type": "code",
   "execution_count": 46,
   "id": "fe450a48-6a91-496a-aa00-130feec1d1a4",
   "metadata": {},
   "outputs": [
    {
     "name": "stdout",
     "output_type": "stream",
     "text": [
      "0\n",
      "500000\n",
      "1000000\n",
      "1500000\n",
      "2000000\n",
      "2500000\n",
      "3000000\n",
      "3500000\n",
      "4000000\n",
      "4500000\n",
      "5000000\n",
      "5500000\n",
      "6000000\n",
      "6500000\n",
      "7000000\n",
      "7500000\n",
      "8000000\n",
      "8500000\n",
      "9000000\n",
      "9500000\n",
      "10000000\n",
      "10500000\n",
      "11000000\n",
      "11500000\n",
      "12000000\n",
      "12500000\n",
      "13000000\n",
      "13500000\n",
      "14000000\n",
      "14500000\n",
      "15000000\n",
      "15500000\n",
      "16000000\n",
      "16500000\n",
      "17000000\n",
      "17500000\n",
      "18000000\n",
      "18500000\n",
      "19000000\n",
      "19500000\n",
      "20000000\n",
      "20500000\n",
      "21000000\n",
      "21500000\n",
      "22000000\n",
      "22500000\n",
      "23000000\n",
      "23500000\n",
      "24000000\n",
      "24500000\n",
      "25000000\n",
      "25500000\n",
      "26000000\n",
      "26500000\n",
      "27000000\n",
      "27500000\n",
      "28000000\n",
      "28500000\n",
      "29000000\n",
      "29500000\n",
      "30000000\n",
      "30500000\n",
      "31000000\n",
      "31500000\n",
      "32000000\n",
      "32500000\n",
      "33000000\n",
      "33500000\n",
      "34000000\n",
      "34500000\n",
      "35000000\n",
      "35500000\n",
      "36000000\n",
      "36500000\n",
      "37000000\n",
      "37500000\n",
      "38000000\n",
      "38500000\n",
      "39000000\n",
      "39500000\n",
      "40000000\n",
      "40500000\n",
      "41000000\n",
      "41500000\n",
      "42000000\n",
      "42500000\n",
      "43000000\n",
      "43500000\n",
      "44000000\n",
      "44500000\n",
      "45000000\n",
      "45500000\n",
      "46000000\n",
      "46500000\n",
      "47000000\n",
      "47500000\n",
      "48000000\n",
      "48500000\n",
      "49000000\n",
      "49500000\n",
      "50000000\n",
      "50500000\n",
      "51000000\n",
      "51500000\n",
      "52000000\n"
     ]
    }
   ],
   "source": [
    "from fenparser import FenParser\n",
    "import itertools\n",
    "\n",
    "for i, fen in enumerate(fens):\n",
    "    if i % 500000 == 0:\n",
    "        print(i)\n",
    "    f = FenParser(fen)\n",
    "    list(itertools.chain.from_iterable(f.parse()))"
   ]
  },
  {
   "cell_type": "code",
   "execution_count": 65,
   "id": "47d98f0f-74c5-4f3a-a709-87a88b39da34",
   "metadata": {},
   "outputs": [],
   "source": [
    "import torch\n",
    "\n",
    "def fen_to_target(f):\n",
    "    p = FenParser(f)\n",
    "    b = list(itertools.chain.from_iterable(p.parse()))\n",
    "    pieces = ['p', 'r', 'n', 'b', 'q', 'k', 'P', 'R', 'N', 'B', 'Q', 'K']\n",
    "    out = torch.zeros(768)\n",
    "    for i in range(12):\n",
    "        target = torch.zeros(64)\n",
    "        target[[pieces[i] == x for x in b]] = 1\n",
    "        out[64*i:64*(i+1)] = target\n",
    "    return out\n"
   ]
  },
  {
   "cell_type": "code",
   "execution_count": 64,
   "id": "a74014aa-9885-4fd0-be07-8c761db5e11c",
   "metadata": {},
   "outputs": [
    {
     "name": "stdout",
     "output_type": "stream",
     "text": [
      "[' ', ' ', 'k', 'r', ' ', ' ', 'n', 'r', 'p', 'p', ' ', 'n', ' ', 'b', 'p', 'p', ' ', 'b', 'p', 'q', ' ', 'p', ' ', ' ', ' ', ' ', ' ', 'p', ' ', ' ', ' ', 'P', ' ', 'P', ' ', 'N', ' ', ' ', 'P', ' ', ' ', ' ', 'P', ' ', 'P', 'P', ' ', ' ', 'P', 'B', ' ', ' ', 'N', ' ', 'B', ' ', 'R', ' ', ' ', 'Q', 'K', ' ', ' ', 'R']\n"
     ]
    },
    {
     "data": {
      "text/plain": [
       "tensor([0., 0., 0., 0., 0., 0., 0., 0., 1., 1., 0., 0., 0., 0., 1., 1., 0., 0.,\n",
       "        1., 0., 0., 1., 0., 0., 0., 0., 0., 1., 0., 0., 0., 0., 0., 0., 0., 0.,\n",
       "        0., 0., 0., 0., 0., 0., 0., 0., 0., 0., 0., 0., 0., 0., 0., 0., 0., 0.,\n",
       "        0., 0., 0., 0., 0., 0., 0., 0., 0., 0., 0., 0., 0., 1., 0., 0., 0., 1.,\n",
       "        0., 0., 0., 0., 0., 0., 0., 0., 0., 0., 0., 0., 0., 0., 0., 0., 0., 0.,\n",
       "        0., 0., 0., 0., 0., 0., 0., 0., 0., 0., 0., 0., 0., 0., 0., 0., 0., 0.,\n",
       "        0., 0., 0., 0., 0., 0., 0., 0., 0., 0., 0., 0., 0., 0., 0., 0., 0., 0.,\n",
       "        0., 0., 0., 0., 0., 0., 0., 0., 1., 0., 0., 0., 0., 1., 0., 0., 0., 0.,\n",
       "        0., 0., 0., 0., 0., 0., 0., 0., 0., 0., 0., 0., 0., 0., 0., 0., 0., 0.,\n",
       "        0., 0., 0., 0., 0., 0., 0., 0., 0., 0., 0., 0., 0., 0., 0., 0., 0., 0.,\n",
       "        0., 0., 0., 0., 0., 0., 0., 0., 0., 0., 0., 0., 0., 0., 0., 0., 0., 0.,\n",
       "        0., 0., 0., 0., 0., 0., 0., 1., 0., 0., 0., 1., 0., 0., 0., 0., 0., 0.,\n",
       "        0., 0., 0., 0., 0., 0., 0., 0., 0., 0., 0., 0., 0., 0., 0., 0., 0., 0.,\n",
       "        0., 0., 0., 0., 0., 0., 0., 0., 0., 0., 0., 0., 0., 0., 0., 0., 0., 0.,\n",
       "        0., 0., 0., 0., 0., 0., 0., 0., 0., 0., 0., 0., 0., 0., 0., 0., 0., 0.,\n",
       "        0., 0., 0., 0., 0., 1., 0., 0., 0., 0., 0., 0., 0., 0., 0., 0., 0., 0.,\n",
       "        0., 0., 0., 0., 0., 0., 0., 0., 0., 0., 0., 0., 0., 0., 0., 0., 0., 0.,\n",
       "        0., 0., 0., 0., 0., 0., 0., 0., 0., 0., 0., 0., 0., 0., 0., 0., 1., 0.,\n",
       "        0., 0., 0., 0., 0., 0., 0., 0., 0., 0., 0., 0., 0., 0., 0., 0., 0., 0.,\n",
       "        0., 0., 0., 0., 0., 0., 0., 0., 0., 0., 0., 0., 0., 0., 0., 0., 0., 0.,\n",
       "        0., 0., 0., 0., 0., 0., 0., 0., 0., 0., 0., 0., 0., 0., 0., 0., 0., 0.,\n",
       "        0., 0., 0., 0., 0., 0., 0., 0., 0., 0., 0., 0., 0., 0., 0., 0., 0., 0.,\n",
       "        0., 0., 0., 0., 0., 0., 0., 0., 0., 0., 0., 0., 0., 0., 0., 0., 0., 0.,\n",
       "        0., 1., 0., 1., 0., 0., 0., 0., 1., 0., 0., 0., 1., 0., 1., 1., 0., 0.,\n",
       "        1., 0., 0., 0., 0., 0., 0., 0., 0., 0., 0., 0., 0., 0., 0., 0., 0., 0.,\n",
       "        0., 0., 0., 0., 0., 0., 0., 0., 0., 0., 0., 0., 0., 0., 0., 0., 0., 0.,\n",
       "        0., 0., 0., 0., 0., 0., 0., 0., 0., 0., 0., 0., 0., 0., 0., 0., 0., 0.,\n",
       "        0., 0., 0., 0., 0., 0., 0., 0., 0., 0., 0., 0., 0., 0., 0., 0., 0., 0.,\n",
       "        1., 0., 0., 0., 0., 0., 0., 1., 0., 0., 0., 0., 0., 0., 0., 0., 0., 0.,\n",
       "        0., 0., 0., 0., 0., 0., 0., 0., 0., 0., 0., 0., 0., 0., 0., 0., 0., 0.,\n",
       "        0., 0., 0., 0., 0., 0., 0., 1., 0., 0., 0., 0., 0., 0., 0., 0., 0., 0.,\n",
       "        0., 0., 0., 0., 0., 0., 1., 0., 0., 0., 0., 0., 0., 0., 0., 0., 0., 0.,\n",
       "        0., 0., 0., 0., 0., 0., 0., 0., 0., 0., 0., 0., 0., 0., 0., 0., 0., 0.,\n",
       "        0., 0., 0., 0., 0., 0., 0., 0., 0., 0., 0., 0., 0., 0., 0., 0., 0., 0.,\n",
       "        0., 0., 0., 0., 0., 0., 0., 0., 0., 0., 0., 0., 0., 1., 0., 0., 0., 0.,\n",
       "        1., 0., 0., 0., 0., 0., 0., 0., 0., 0., 0., 0., 0., 0., 0., 0., 0., 0.,\n",
       "        0., 0., 0., 0., 0., 0., 0., 0., 0., 0., 0., 0., 0., 0., 0., 0., 0., 0.,\n",
       "        0., 0., 0., 0., 0., 0., 0., 0., 0., 0., 0., 0., 0., 0., 0., 0., 0., 0.,\n",
       "        0., 0., 0., 0., 0., 0., 0., 0., 0., 0., 0., 0., 0., 0., 0., 1., 0., 0.,\n",
       "        0., 0., 0., 0., 0., 0., 0., 0., 0., 0., 0., 0., 0., 0., 0., 0., 0., 0.,\n",
       "        0., 0., 0., 0., 0., 0., 0., 0., 0., 0., 0., 0., 0., 0., 0., 0., 0., 0.,\n",
       "        0., 0., 0., 0., 0., 0., 0., 0., 0., 0., 0., 0., 0., 0., 0., 0., 0., 0.,\n",
       "        0., 0., 0., 0., 0., 0., 0., 0., 1., 0., 0., 0.])"
      ]
     },
     "execution_count": 64,
     "metadata": {},
     "output_type": "execute_result"
    }
   ],
   "source": [
    "fen_to_target(next(iter(fens)))"
   ]
  },
  {
   "cell_type": "code",
   "execution_count": 117,
   "id": "48b89ff8-3a30-401d-b6db-582db479355a",
   "metadata": {},
   "outputs": [
    {
     "name": "stderr",
     "output_type": "stream",
     "text": [
      "vocab.txt: 100%|██████████████████████████████████████████████████████| 213k/213k [00:00<00:00, 1.64MB/s]\n",
      "tokenizer_config.json: 100%|███████████████████████████████████████████| 29.0/29.0 [00:00<00:00, 104kB/s]\n",
      "tokenizer.json: 100%|█████████████████████████████████████████████████| 436k/436k [00:00<00:00, 2.05MB/s]\n",
      "config.json: 100%|██████████████████████████████████████████████████████| 570/570 [00:00<00:00, 1.23MB/s]\n"
     ]
    }
   ],
   "source": [
    "from transformers import BertTokenizer\n",
    "\n",
    "tokenizer = BertTokenizer.from_pretrained('bert-base-cased')"
   ]
  },
  {
   "cell_type": "code",
   "execution_count": 118,
   "id": "410940a1-d530-46a1-909b-8349419df102",
   "metadata": {},
   "outputs": [
    {
     "name": "stderr",
     "output_type": "stream",
     "text": [
      "Truncation was not explicitly activated but `max_length` is provided a specific value, please use `truncation=True` to explicitly truncate examples to max length. Defaulting to 'longest_first' truncation strategy. If you encode pairs of sequences (GLUE-style) with the tokenizer you can select this strategy more precisely by providing a specific strategy to `truncation`.\n"
     ]
    },
    {
     "data": {
      "text/plain": [
       "({'input_ids': [101, 123, 1377, 1197, 1477, 1179, 1197, 120, 4329, 1475, 1179, 1475, 1830, 8661, 120, 122, 1830, 1643, 4426, 1475, 1643, 1477, 120, 124, 1643, 1495, 2101, 120, 122, 2101, 1475, 2249, 1477, 2101, 1475, 120, 123, 2101, 1475, 20923, 1477, 120, 153, 2064, 1477, 2249, 1475, 2064, 1475, 120, 155, 1477, 4880, 2428, 1477, 2069, 171, 118, 148, 4880, 102, 0, 0, 0], 'token_type_ids': [0, 0, 0, 0, 0, 0, 0, 0, 0, 0, 0, 0, 0, 0, 0, 0, 0, 0, 0, 0, 0, 0, 0, 0, 0, 0, 0, 0, 0, 0, 0, 0, 0, 0, 0, 0, 0, 0, 0, 0, 0, 0, 0, 0, 0, 0, 0, 0, 0, 0, 0, 0, 0, 0, 0, 0, 0, 0, 0, 0, 0, 0, 0, 0], 'attention_mask': [1, 1, 1, 1, 1, 1, 1, 1, 1, 1, 1, 1, 1, 1, 1, 1, 1, 1, 1, 1, 1, 1, 1, 1, 1, 1, 1, 1, 1, 1, 1, 1, 1, 1, 1, 1, 1, 1, 1, 1, 1, 1, 1, 1, 1, 1, 1, 1, 1, 1, 1, 1, 1, 1, 1, 1, 1, 1, 1, 1, 1, 0, 0, 0]},\n",
       " '2kr2nr/pp1n1bpp/1bpq1p2/3p3P/1P1N2P1/2P1PP2/PB2N1B1/R2QK2R b - KQ')"
      ]
     },
     "execution_count": 118,
     "metadata": {},
     "output_type": "execute_result"
    }
   ],
   "source": [
    "entry = next(iter(fens))\n",
    "\n",
    "inputs = tokenizer.encode_plus(\n",
    "    entry,\n",
    "    max_length=64,\n",
    "    pad_to_max_length=True,\n",
    "    return_token_type_ids=True,\n",
    ")\n",
    "inputs, entry"
   ]
  },
  {
   "cell_type": "code",
   "execution_count": 119,
   "id": "17194a30-b20c-4958-8142-1cc4cd8a762e",
   "metadata": {},
   "outputs": [
    {
     "data": {
      "text/plain": [
       "'[CLS] 2kr2nr / pp1n1bpp / 1bpq1p2 / 3p3P / 1P1N2P1 / 2P1PP2 / PB2N1B1 / R2QK2R b - KQ [SEP] [PAD] [PAD] [PAD]'"
      ]
     },
     "execution_count": 119,
     "metadata": {},
     "output_type": "execute_result"
    }
   ],
   "source": [
    "tokenizer.decode(inputs['input_ids'])"
   ]
  },
  {
   "cell_type": "code",
   "execution_count": 120,
   "id": "e77f2e1c-a4dd-44ae-8b8e-489386589606",
   "metadata": {},
   "outputs": [
    {
     "name": "stdout",
     "output_type": "stream",
     "text": [
      "61\n"
     ]
    }
   ],
   "source": [
    "m = 0\n",
    "\n",
    "for i, x in enumerate(fens):\n",
    "    n = tokenizer.encode_plus(entry)['input_ids']\n",
    "    if len(n) > m:\n",
    "        m = len(n)\n",
    "\n",
    "    if i == 100000:\n",
    "        break\n",
    "print(m)"
   ]
  },
  {
   "cell_type": "code",
   "execution_count": 127,
   "id": "0a37d876-7517-409b-8748-41bc1e5d8530",
   "metadata": {},
   "outputs": [],
   "source": [
    "import itertools\n",
    "from typing import List, Dict\n",
    "\n",
    "import torch\n",
    "from torch.utils.data import Dataset, DataLoader\n",
    "\n",
    "from transformers import BertTokenizer\n",
    "\n",
    "from fenparser import FenParser\n",
    "\n",
    "\n",
    "class FenDataset(Dataset):\n",
    "    def __init__(self, fens: List[str], tokenizer: BertTokenizer, max_len):\n",
    "        self.fens = fens\n",
    "        self.tokenizer = tokenizer\n",
    "        self.max_len = max_len\n",
    "\n",
    "    def __len__(self) -> int:\n",
    "        return len(self.fens)\n",
    "\n",
    "    def __getitem__(self, idx) -> Dict[str, torch.Tensor]:\n",
    "        inputs = self.tokenizer.encode_plus(\n",
    "            self.fens[idx],\n",
    "            max_length=self.max_len,\n",
    "            pad_to_max_length=True,\n",
    "            truncation=True,\n",
    "            return_token_type_ids=True\n",
    "        )\n",
    "        target = fen_to_target(self.fens[idx])\n",
    "        return {\n",
    "            'input_ids': torch.tensor(inputs['input_ids']),\n",
    "            'attention_mask': torch.tensor(inputs['attention_mask']),\n",
    "            'token_type_ids': torch.tensor(inputs['token_type_ids']),\n",
    "            'targets': target\n",
    "        }\n"
   ]
  },
  {
   "cell_type": "code",
   "execution_count": 128,
   "id": "ca6f95dd-6f12-4090-83b2-efecfaae1269",
   "metadata": {},
   "outputs": [],
   "source": [
    "test_fens = list(fens)[:100]\n",
    "tokenizer = BertTokenizer.from_pretrained('bert-base-cased')\n",
    "\n",
    "ds = FenDataset(test_fens, tokenizer, 64)"
   ]
  },
  {
   "cell_type": "code",
   "execution_count": 129,
   "id": "67ce3156-78d1-420b-b7d5-0785f7de672f",
   "metadata": {},
   "outputs": [
    {
     "data": {
      "text/plain": [
       "{'input_ids': tensor([  101,   187,  1571,  1377,  1475,   120,   124,  1830,  1475,  8661,\n",
       "          1475,   120,   185,  1477,  1830,  1643,  1495,   120,   128,  1643,\n",
       "           120,   122,  1643,  1545,   120,   153,  1475,  2249,  1571,   120,\n",
       "           122, 20923,  1475, 20336,  2101,  1475,   120,   124,  2069,  1495,\n",
       "          2428,   192,   118,   118,   102,     0,     0,     0,     0,     0,\n",
       "             0,     0,     0,     0,     0,     0,     0,     0,     0,     0,\n",
       "             0,     0,     0,     0]),\n",
       " 'attention_mask': tensor([1, 1, 1, 1, 1, 1, 1, 1, 1, 1, 1, 1, 1, 1, 1, 1, 1, 1, 1, 1, 1, 1, 1, 1,\n",
       "         1, 1, 1, 1, 1, 1, 1, 1, 1, 1, 1, 1, 1, 1, 1, 1, 1, 1, 1, 1, 1, 0, 0, 0,\n",
       "         0, 0, 0, 0, 0, 0, 0, 0, 0, 0, 0, 0, 0, 0, 0, 0]),\n",
       " 'token_type_ids': tensor([0, 0, 0, 0, 0, 0, 0, 0, 0, 0, 0, 0, 0, 0, 0, 0, 0, 0, 0, 0, 0, 0, 0, 0,\n",
       "         0, 0, 0, 0, 0, 0, 0, 0, 0, 0, 0, 0, 0, 0, 0, 0, 0, 0, 0, 0, 0, 0, 0, 0,\n",
       "         0, 0, 0, 0, 0, 0, 0, 0, 0, 0, 0, 0, 0, 0, 0, 0]),\n",
       " 'targets': tensor([0., 0., 0., 0., 0., 0., 0., 0., 0., 0., 0., 0., 0., 1., 1., 0., 1., 0.,\n",
       "         0., 0., 1., 0., 0., 0., 0., 0., 0., 0., 0., 0., 0., 1., 0., 1., 0., 0.,\n",
       "         0., 0., 0., 0., 0., 0., 0., 0., 0., 0., 0., 0., 0., 0., 0., 0., 0., 0.,\n",
       "         0., 0., 0., 0., 0., 0., 0., 0., 0., 0., 1., 0., 0., 0., 0., 0., 0., 0.,\n",
       "         0., 0., 0., 0., 0., 0., 0., 0., 0., 0., 0., 0., 0., 0., 0., 0., 0., 0.,\n",
       "         0., 0., 0., 0., 0., 0., 0., 0., 0., 0., 0., 0., 0., 0., 0., 0., 0., 0.,\n",
       "         0., 0., 0., 0., 0., 0., 0., 0., 0., 0., 0., 0., 0., 0., 0., 0., 0., 0.,\n",
       "         0., 0., 0., 0., 0., 0., 0., 0., 0., 0., 0., 0., 0., 0., 0., 0., 0., 0.,\n",
       "         0., 0., 0., 0., 0., 0., 0., 0., 0., 0., 0., 0., 0., 0., 0., 0., 0., 0.,\n",
       "         0., 0., 0., 0., 0., 0., 0., 0., 0., 0., 0., 0., 0., 0., 0., 0., 0., 0.,\n",
       "         0., 0., 0., 0., 0., 0., 0., 0., 0., 0., 0., 0., 0., 0., 0., 0., 0., 0.,\n",
       "         0., 0., 0., 0., 0., 1., 0., 0., 0., 0., 0., 0., 0., 1., 0., 0., 0., 0.,\n",
       "         0., 0., 0., 0., 0., 0., 0., 0., 0., 0., 0., 0., 0., 0., 0., 0., 0., 0.,\n",
       "         0., 0., 0., 0., 0., 0., 0., 0., 0., 0., 0., 0., 0., 0., 0., 0., 0., 0.,\n",
       "         0., 0., 0., 0., 0., 0., 0., 0., 0., 0., 0., 0., 0., 0., 0., 0., 0., 0.,\n",
       "         0., 0., 0., 0., 0., 0., 0., 0., 0., 0., 0., 0., 0., 0., 0., 0., 0., 0.,\n",
       "         0., 0., 0., 0., 0., 0., 0., 0., 0., 0., 0., 0., 0., 0., 0., 0., 0., 0.,\n",
       "         0., 0., 0., 0., 0., 0., 0., 0., 0., 0., 0., 0., 0., 0., 0., 0., 0., 0.,\n",
       "         0., 0., 1., 0., 0., 0., 0., 0., 0., 0., 0., 0., 0., 0., 0., 0., 0., 0.,\n",
       "         0., 0., 0., 0., 0., 0., 0., 0., 0., 0., 0., 0., 0., 0., 0., 0., 0., 0.,\n",
       "         0., 0., 0., 0., 0., 0., 0., 0., 0., 0., 0., 0., 0., 0., 0., 0., 0., 0.,\n",
       "         0., 0., 0., 0., 0., 0., 0., 0., 0., 0., 0., 0., 0., 0., 0., 0., 0., 0.,\n",
       "         0., 0., 0., 0., 0., 0., 0., 0., 0., 0., 0., 0., 0., 0., 0., 0., 0., 0.,\n",
       "         0., 0., 0., 0., 0., 0., 0., 0., 0., 0., 1., 0., 0., 0., 0., 0., 0., 0.,\n",
       "         0., 1., 1., 0., 0., 1., 1., 0., 0., 0., 0., 0., 0., 0., 0., 0., 0., 0.,\n",
       "         0., 0., 0., 0., 0., 0., 0., 0., 0., 0., 0., 0., 0., 0., 0., 0., 0., 0.,\n",
       "         0., 0., 0., 0., 0., 0., 0., 0., 0., 0., 0., 0., 0., 0., 0., 0., 0., 0.,\n",
       "         0., 0., 0., 0., 0., 0., 0., 0., 0., 0., 0., 0., 0., 0., 1., 0., 0., 0.,\n",
       "         0., 0., 0., 1., 0., 0., 0., 0., 0., 0., 0., 0., 0., 0., 0., 0., 0., 0.,\n",
       "         0., 0., 0., 0., 0., 0., 0., 0., 0., 0., 0., 0., 0., 0., 0., 0., 0., 0.,\n",
       "         0., 0., 0., 0., 0., 0., 0., 0., 0., 0., 0., 0., 0., 0., 1., 0., 0., 0.,\n",
       "         0., 0., 0., 0., 0., 0., 0., 0., 0., 0., 0., 0., 0., 0., 0., 0., 0., 0.,\n",
       "         0., 0., 0., 0., 0., 0., 0., 0., 0., 0., 0., 0., 0., 0., 0., 0., 0., 0.,\n",
       "         0., 0., 0., 0., 0., 0., 0., 0., 0., 0., 0., 0., 0., 0., 0., 0., 0., 0.,\n",
       "         0., 0., 0., 0., 0., 0., 0., 0., 0., 0., 0., 0., 0., 0., 0., 0., 0., 0.,\n",
       "         0., 0., 0., 0., 0., 0., 0., 0., 0., 0., 0., 0., 0., 0., 0., 0., 0., 0.,\n",
       "         0., 0., 0., 0., 0., 0., 0., 0., 0., 0., 0., 0., 0., 0., 0., 0., 0., 0.,\n",
       "         0., 0., 0., 0., 0., 0., 0., 0., 0., 0., 0., 0., 0., 0., 0., 0., 0., 0.,\n",
       "         0., 0., 0., 0., 0., 0., 0., 0., 0., 0., 0., 0., 0., 0., 0., 0., 0., 0.,\n",
       "         0., 0., 0., 0., 0., 0., 0., 0., 0., 0., 0., 0., 0., 0., 0., 0., 0., 0.,\n",
       "         0., 0., 0., 0., 0., 0., 0., 0., 0., 0., 0., 0., 0., 0., 0., 0., 0., 0.,\n",
       "         0., 0., 0., 0., 0., 0., 0., 0., 0., 0., 0., 0., 0., 0., 0., 0., 0., 0.,\n",
       "         0., 0., 0., 0., 0., 0., 0., 0., 0., 0., 0., 1.])}"
      ]
     },
     "execution_count": 129,
     "metadata": {},
     "output_type": "execute_result"
    }
   ],
   "source": [
    "ds[9]"
   ]
  },
  {
   "cell_type": "code",
   "execution_count": null,
   "id": "07531dce-900b-4189-be03-1109c9df641d",
   "metadata": {},
   "outputs": [],
   "source": []
  }
 ],
 "metadata": {
  "kernelspec": {
   "display_name": "Python 3 (ipykernel)",
   "language": "python",
   "name": "python3"
  },
  "language_info": {
   "codemirror_mode": {
    "name": "ipython",
    "version": 3
   },
   "file_extension": ".py",
   "mimetype": "text/x-python",
   "name": "python",
   "nbconvert_exporter": "python",
   "pygments_lexer": "ipython3",
   "version": "3.11.7"
  }
 },
 "nbformat": 4,
 "nbformat_minor": 5
}
